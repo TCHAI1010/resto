{
 "cells": [
  {
   "cell_type": "code",
   "execution_count": 24,
   "id": "b223cca9",
   "metadata": {},
   "outputs": [],
   "source": [
    "import pandas as mx"
   ]
  },
  {
   "cell_type": "code",
   "execution_count": 25,
   "id": "94401488",
   "metadata": {},
   "outputs": [],
   "source": [
    "fichier1 = mx.read_csv(\"C:/Users/168289/resto/restaurant_1_week_002.csv\")"
   ]
  },
  {
   "cell_type": "code",
   "execution_count": 27,
   "id": "e273aa2a",
   "metadata": {},
   "outputs": [],
   "source": [
    "fichier1"
   ]
  },
  {
   "cell_type": "code",
   "execution_count": null,
   "id": "7bb10ce0",
   "metadata": {},
   "outputs": [],
   "source": []
  }
 ],
 "metadata": {
  "kernelspec": {
   "display_name": "Python 3 (ipykernel)",
   "language": "python",
   "name": "python3"
  },
  "language_info": {
   "codemirror_mode": {
    "name": "ipython",
    "version": 3
   },
   "file_extension": ".py",
   "mimetype": "text/x-python",
   "name": "python",
   "nbconvert_exporter": "python",
   "pygments_lexer": "ipython3",
   "version": "3.10.9"
  }
 },
 "nbformat": 4,
 "nbformat_minor": 5
}
